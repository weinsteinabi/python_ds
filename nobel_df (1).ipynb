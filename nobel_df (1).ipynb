{
 "cells": [
  {
   "cell_type": "markdown",
   "metadata": {},
   "source": [
    "# Creating DataFrames\n",
    "We will create a `DataFrame` object from a dataset in a CSV file using the **read_csv** method on the pandas - **pd** - object. While the read_csv method can read dataset directly from a web URL, it's best to download to your computer first to ensure the data is persisted.\n",
    "\n",
    "## About the Data\n",
    "We will use the dataset on nobel lauretes available at: **http://api.nobelprize.org/v1/laureates.csv**.  Download the file to your computer using:  **curl -OL http://api.nobelprize.org/v1/laureates.csv**\n",
    "\n",
    "## Imports"
   ]
  },
  {
   "cell_type": "code",
   "execution_count": null,
   "metadata": {},
   "outputs": [],
   "source": [
    "import datetime\n",
    "import numpy as np\n",
    "import pandas as pd"
   ]
  },
  {
   "cell_type": "markdown",
   "metadata": {},
   "source": [
    "## Creating a `Series`"
   ]
  },
  {
   "cell_type": "code",
   "execution_count": null,
   "metadata": {},
   "outputs": [],
   "source": [
    "np.random.seed(0) # set a seed for reproducibility\n",
    "pd.Series(np.random.rand(5), name='random')"
   ]
  },
  {
   "cell_type": "markdown",
   "metadata": {},
   "source": [
    "## Creating a `DataFrame` from a `Series`\n",
    "Use the `to_frame()` method:"
   ]
  },
  {
   "cell_type": "code",
   "execution_count": null,
   "metadata": {},
   "outputs": [],
   "source": [
    "pd.Series(np.linspace(0, 10, num=5)).to_frame()"
   ]
  },
  {
   "cell_type": "markdown",
   "metadata": {},
   "source": [
    "### From a list of dictionaries"
   ]
  },
  {
   "cell_type": "code",
   "execution_count": null,
   "metadata": {},
   "outputs": [],
   "source": [
    "pd.DataFrame([\n",
    "    {'mag' : 5.2, 'place' : 'California'},\n",
    "    {'mag' : 1.2, 'place' : 'Alaska'},\n",
    "    {'mag' : 0.2, 'place' : 'California'},\n",
    "])"
   ]
  },
  {
   "cell_type": "markdown",
   "metadata": {},
   "source": [
    "### From a NumPy array"
   ]
  },
  {
   "cell_type": "code",
   "execution_count": null,
   "metadata": {},
   "outputs": [],
   "source": [
    "pd.DataFrame(\n",
    "    np.array([\n",
    "        [0, 0, 0],\n",
    "        [1, 1, 1],\n",
    "        [2, 4, 8],\n",
    "        [3, 9, 27],\n",
    "        [4, 16, 64]\n",
    "    ]), columns=['n', 'n_squared', 'n_cubed']\n",
    ")"
   ]
  },
  {
   "cell_type": "markdown",
   "metadata": {},
   "source": [
    "## Creating a `DataFrame` by Reading in a CSV File\n",
    "\n",
    "### Finding information on the file before reading it in\n",
    "Before attempting to read in a file, we can use the command line to see important information about the file that may determine how we read it in. We can run command line code from Jupyter Notebooks (thanks to IPython) by using `!` before the code.\n",
    "\n",
    "#### Number of lines (row count)\n",
    "For example, we can find out how many lines are in the file by using the `wc` utility (word count) and counting lines in the file (`-l`). Run the cell below to confirm the file has 1002 lines:"
   ]
  },
  {
   "cell_type": "code",
   "execution_count": null,
   "metadata": {},
   "outputs": [],
   "source": [
    "!wc -l laureates.csv  # this will not work on Windows commandline\n",
    "# On windows the !dir command will show directory contents"
   ]
  },
  {
   "cell_type": "markdown",
   "metadata": {},
   "source": [
    "We can even capture the result of a command and use it in our Python code:"
   ]
  },
  {
   "cell_type": "markdown",
   "metadata": {},
   "source": [
    "### Reading in the file\n",
    "Our file is small in size, has headers in the first row, and is comma-separated, so we don't need to provide any additional arguments to read in the file with `pd.read_csv()`, but be sure to check the [documentation](http://pandas.pydata.org/pandas-docs/stable/reference/api/pandas.read_csv.html) for possible arguments.\n",
    "To read data from file we can use `pd.read_csv()` and for other delimited files, such as tab (\\t), we can use the `read_csv()` function with the sep argument equal to the delimiter. We can use the `read_excel()` function for Excel files, the `read_json()` function for JSON (JavaScript Object Notation) files"
   ]
  },
  {
   "cell_type": "code",
   "execution_count": null,
   "metadata": {},
   "outputs": [],
   "source": [
    "import pandas as pd\n",
    "df = pd.read_csv('laureates.csv')"
   ]
  },
  {
   "cell_type": "markdown",
   "metadata": {},
   "source": [
    "# Getting Documentation on Python elements\n",
    "You can utilize the built-in `help()` function for documentation on Python elements.  Simply run `help()`, passing in the package, module, class, object, method, or function. \r\n",
    "Assuming we aliased pandas as` p`d when we imported it, we can run` help(pd`) to see information on the pandas package;` help(pd.DataFrame`) for all the methods and attributes of a dataframe (note we can also pass in an already created DataFrame object instead); and` help(pd.read_csv`) to learn more about the pandas function for reading CSV files into Python and how to use it\n",
    "\n",
    "**Run the code cell below to see documentation for the DataFrame class.**\r\n"
   ]
  },
  {
   "cell_type": "code",
   "execution_count": null,
   "metadata": {},
   "outputs": [],
   "source": [
    "import pandas as pd\n",
    "help(pd.DataFrame)"
   ]
  },
  {
   "cell_type": "markdown",
   "metadata": {},
   "source": [
    "Let's review summary statistics for the nobel laureates dataframe - df:  use `describe()`. "
   ]
  },
  {
   "cell_type": "markdown",
   "metadata": {},
   "source": [
    "df.describe()"
   ]
  },
  {
   "cell_type": "markdown",
   "metadata": {},
   "source": [
    "`df.describe()` does not really tell us much.  The `info()` method provides more information as you can check by running the code cell below."
   ]
  },
  {
   "cell_type": "code",
   "execution_count": null,
   "metadata": {},
   "outputs": [],
   "source": [
    "df.info()"
   ]
  },
  {
   "cell_type": "markdown",
   "metadata": {},
   "source": [
    "We can use the dataframe `head()` or `tail()` method to view some actual entries. Without a numeric parameter, both methods return 5 entries!\n",
    "\n",
    "**Run the next 2 code cells below to see the first 10 and the last 10 entries**"
   ]
  },
  {
   "cell_type": "code",
   "execution_count": null,
   "metadata": {},
   "outputs": [],
   "source": [
    "df.head(10)"
   ]
  },
  {
   "cell_type": "code",
   "execution_count": null,
   "metadata": {},
   "outputs": [],
   "source": [
    "df.tail(10)"
   ]
  },
  {
   "cell_type": "markdown",
   "metadata": {},
   "source": [
    "Both `head()` and `tail()` and indeed select statements will return the full set of attributes for the entries. How can we project to just a select set of attributes? This will be the equivalent of an SQL project operator listing the output columns.\n",
    "\n",
    "**Run the code cell below to show only 'firstname','surname','city' and 'country' columns for the first 10 entries.** "
   ]
  },
  {
   "cell_type": "code",
   "execution_count": null,
   "metadata": {},
   "outputs": [],
   "source": [
    "df.head(10)[['firstname','surname','city','country']]"
   ]
  },
  {
   "cell_type": "markdown",
   "metadata": {},
   "source": [
    "Following the example of the last code cell, write a code cell below to return the last 10 records of nobel laureates but only showing their firstname, surname, year of birth, year of death and country"
   ]
  },
  {
   "cell_type": "code",
   "execution_count": null,
   "metadata": {},
   "outputs": [],
   "source": [
    "# Add your code below this line"
   ]
  },
  {
   "cell_type": "markdown",
   "metadata": {},
   "source": [
    "# Querying & Locating Data in the DataFrame\r\n",
    "One of the most useful tasks in pandas is locating data that satisfies desired criteria. For example, we can locate a Nobel laureate with a particular surname. Let’s look at the record of Caltech’s most beloved figure, physicist Richard Feynman (pronounced “FINE-men”). In addition to his groundbreaking work in theoretical physics (especially quantum electrodynamics and its associated Feynman diagrams), Feynman is known for The Feynman Lectures on Physics, which covers the elementary physics curriculum (mechanics, thermal physics, electrodynamics, etc.) in an unusually entertaining and insightful way.\r\n",
    "Let’s use square brackets and a boolean criterion on the \"surname\" column to find Feynman’s record in the laureates da. \n",
    "\n",
    "**What can you conclude from the format of this query below and results produce?**a\r\n"
   ]
  },
  {
   "cell_type": "code",
   "execution_count": null,
   "metadata": {},
   "outputs": [],
   "source": [
    "df[df['surname'] == 'Feynman'] "
   ]
  },
  {
   "cell_type": "markdown",
   "metadata": {},
   "source": [
    "**The DataFrame object can take a Boolean condition on columns in it's index and will return records that meet that condition!**. The inner part of the syntax for query above returns a Series  consisting of boolean values for every laureate, with True if the surname is equal to \"Feynman\" and False otherwise. \n",
    "\n",
    "By using the correct index (i.e., 86), we can confirm that the value in that case is True.\n",
    "\n",
    "**Run the code cell below to confirm only this index returns True.**"
   ]
  },
  {
   "cell_type": "code",
   "execution_count": 24,
   "metadata": {},
   "outputs": [
    {
     "data": {
      "text/plain": [
       "True"
      ]
     },
     "execution_count": 24,
     "metadata": {},
     "output_type": "execute_result"
    }
   ],
   "source": [
    "(df[\"surname\"] == \"Feynman\")[86]"
   ]
  },
  {
   "cell_type": "markdown",
   "metadata": {},
   "source": [
    "The `loc` attribute can be used in place of brackets in many places and is generally a more flexible way to pull out data items of interest. Let's use the loc attribute to retrieve the year when Feyman won.\n",
    "\n",
    "**Run the code cell below for this result.**"
   ]
  },
  {
   "cell_type": "code",
   "execution_count": 25,
   "metadata": {},
   "outputs": [
    {
     "data": {
      "text/plain": [
       "86    1965\n",
       "Name: year, dtype: int64"
      ]
     },
     "execution_count": 25,
     "metadata": {},
     "output_type": "execute_result"
    }
   ],
   "source": [
    "df.loc[df[\"surname\"] == \"Feynman\", \"year\"]"
   ]
  },
  {
   "cell_type": "markdown",
   "metadata": {},
   "source": [
    "Use the `loc` attribute illustrated above to code a query on this dataset to:\n",
    "\n",
    "**Find all Nobel laureates named named 'Curie'**  \n",
    "**Tip:** Use the Boolean condition: df[\"surname\"].str.contains(\"Curie\", na=False)   \r\n"
   ]
  },
  {
   "cell_type": "code",
   "execution_count": null,
   "metadata": {},
   "outputs": [],
   "source": [
    "# Code and test your scriplet to find all 'Curies' \n",
    "# Assigned the results to a variable named curies."
   ]
  },
  {
   "cell_type": "markdown",
   "metadata": {},
   "source": [
    "Let's **find all the winners of multiple nobel prizes** using the `groupby` method"
   ]
  },
  {
   "cell_type": "code",
   "execution_count": null,
   "metadata": {},
   "outputs": [],
   "source": [
    "laureates = df.groupby([\"id\", \"firstname\", \"surname\"])\n",
    "sizes = laureates.size()\n",
    "sizes[sizes > 1]       # result should show 5 winners"
   ]
  },
  {
   "cell_type": "markdown",
   "metadata": {},
   "source": [
    "**Selecting Dates & Time information** \r\n",
    "Pandas provides good support fordatetimee. Let’s search for laureates by exact birthday as a strin - the default pandas storage format for dates.\n",
    "\n",
    "**Run the code cell below** to get the result entry for Eistein born 3/14/1879 fondly known as Pi Day.\r\n"
   ]
  },
  {
   "cell_type": "code",
   "execution_count": null,
   "metadata": {},
   "outputs": [],
   "source": [
    "df.loc[df['born'] == '1879-03-14']"
   ]
  },
  {
   "cell_type": "markdown",
   "metadata": {},
   "source": [
    "Like the query above let’s see if there are any laureates born 6/28 known as Tau Day\n",
    "\n",
    "**Run the code cell below** to confirm!"
   ]
  },
  {
   "cell_type": "code",
   "execution_count": null,
   "metadata": {},
   "outputs": [],
   "source": [
    "df.loc[df['born'].str.contains('06-08', na=False)]"
   ]
  },
  {
   "cell_type": "markdown",
   "metadata": {},
   "source": [
    "**Rewrite the query above to filter the result to just laureates in Physics born on Tau Day** ... Tip: use (df['category'] == \"physics\") as the other part of your Boolean function!"
   ]
  },
  {
   "cell_type": "code",
   "execution_count": null,
   "metadata": {},
   "outputs": [],
   "source": [
    "# Your code for the Physics category Tau Day Nobel Laureates below "
   ]
  }
 ],
 "metadata": {
  "kernelspec": {
   "display_name": "Python 3 (ipykernel)",
   "language": "python",
   "name": "python3"
  },
  "language_info": {
   "codemirror_mode": {
    "name": "ipython",
    "version": 3
   },
   "file_extension": ".py",
   "mimetype": "text/x-python",
   "name": "python",
   "nbconvert_exporter": "python",
   "pygments_lexer": "ipython3",
   "version": "3.10.8"
  }
 },
 "nbformat": 4,
 "nbformat_minor": 4
}
