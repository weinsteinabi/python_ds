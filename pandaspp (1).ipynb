{
 "cells": [
  {
   "cell_type": "markdown",
   "id": "39d84343-9749-467b-9d75-02f875874c3b",
   "metadata": {},
   "source": [
    "# Pandas++: Additional Data Processing Support\n",
    "__Data cleaning in pandas DataFrame__\n",
    " - Handling duplicate data\n",
    " - Handling missing values in data\n",
    " - Others include Grouping and aggregation, merging etc\n",
    "   \n",
    "Let's load the `IMDB5000` data into a dataframe\n"
   ]
  },
  {
   "cell_type": "code",
   "execution_count": null,
   "id": "f57220c1-36ab-4712-b081-2899e02817b1",
   "metadata": {},
   "outputs": [],
   "source": [
    "import pandas as pd\n",
    "df = pd.read_csv('IMDB5000movies.csv')\n",
    "df.head(10)"
   ]
  },
  {
   "cell_type": "markdown",
   "id": "b8494e46-7c05-4e4a-870b-c8a2306ea2db",
   "metadata": {},
   "source": [
    "**Selecting the data for the subset of columns**\n",
    "To select a subset of columns out of all, we can use a function like - `<dataframe name>[ [col1,col2…]]`. This will return a DataFrame with selected columns. \n",
    "**Write a Query to select the top 10 entries but only showing the `director name column` and the `director facebook likes column`** "
   ]
  },
  {
   "cell_type": "code",
   "execution_count": null,
   "id": "248ffb57-11e6-438a-9fac-0cfbf9545aff",
   "metadata": {},
   "outputs": [],
   "source": [
    "# Your Query Here:"
   ]
  },
  {
   "cell_type": "markdown",
   "id": "84fbff79-5b2e-4f23-a1c1-4e9aa07bfc1d",
   "metadata": {},
   "source": [
    "**Write a Query to select the `director name column` and the `director facebook likes column` for entries that grossed more than 30 million dollars at the box office** "
   ]
  },
  {
   "cell_type": "code",
   "execution_count": null,
   "id": "3396a1bf-1502-428a-96e3-5edc586f5a56",
   "metadata": {},
   "outputs": [],
   "source": [
    "# Your Query Here:"
   ]
  },
  {
   "cell_type": "markdown",
   "id": "a0feb334-cf7c-4b26-8fbd-bcddfa953427",
   "metadata": {},
   "source": [
    "# Data cleaning in pandas DataFrame handles\n",
    " - Eliminating Duplicate entries for a complete entry or select set of duplicate columns\n",
    " - Handling Missing Values in data\n",
    "\n",
    "We use the `duplicated()` method on a dataframe without parameters when handling entire duplicate entries or the `duplicated(dup_cols_list)` passing in the list of columns with duplicated values in entries. Let's find out the total number of entirely duplicated entries, if any in the set."
   ]
  },
  {
   "cell_type": "code",
   "execution_count": null,
   "id": "5c83d2ca-a347-4967-aa7e-71553b5d38e9",
   "metadata": {},
   "outputs": [],
   "source": [
    "df.duplicated().sum()"
   ]
  },
  {
   "cell_type": "markdown",
   "id": "bc662366-a99c-42f4-b497-0949a3c3de30",
   "metadata": {},
   "source": [
    "You can use the `drop_duplicates()` method to remove duplicates. Note that without a list of the duplicate columns this will only drop entries with a duplicity in the values for all columns, but if we pass the essential columns list, it will drop records that show duplicity in values for specified columns only. Use the `shape` attribute to verify the number of entries and columns of the dataframe. "
   ]
  },
  {
   "cell_type": "code",
   "execution_count": null,
   "id": "2c062cf7-ee04-4492-8b5b-f75e3db551b2",
   "metadata": {},
   "outputs": [],
   "source": [
    "df.shape"
   ]
  },
  {
   "cell_type": "markdown",
   "id": "46c8f968-0fb0-47e1-9359-4bf5315fff9a",
   "metadata": {},
   "source": [
    "Now use the `help()` method to investigate the parameters of the `drop_duplicates` method, then **create a code cell to eliminate the duplicate rows in place, rather than as in the result of the returned dataframe object.**"
   ]
  },
  {
   "cell_type": "code",
   "execution_count": null,
   "id": "c7a96614-a0e3-4691-ba45-8dbb791db5e0",
   "metadata": {},
   "outputs": [],
   "source": [
    "help(df.drop_duplicates)"
   ]
  },
  {
   "cell_type": "markdown",
   "id": "8ddcd34e-b84d-4f36-b37e-e7db00d42793",
   "metadata": {},
   "source": [
    "# Handling missing values in data\n",
    "Handling the missing values is a very crucial and essential task. The most straightforward approach is removing the records from the DataFrame that have missing values. But it will not help since in all cases we can lose some important facts from our data. So, another way is to impute the values for the missing data, and there is no single or fixed method to find such values. It depends on several factors like what type of problem it is, its domain, and the business need, or how it will impact our outcomes. In pandas, we have a good list of functions/methods to handle missing data in DataFrame.\n",
    "\n",
    "**Dropping the rows which have missing data** <br>\n",
    "In pandas, we have the `dropna()`: method to drop the rows with the missing values:\n",
    " - If all columns have missing values (`dropna(how=’all’)`)…\n",
    " - If any column has missing values (`dropna(how=’any’)`…\n",
    " - If subset of columns or specified columns have missing value (`dropna(subset=[col1,col2…])`…"
   ]
  },
  {
   "cell_type": "code",
   "execution_count": null,
   "id": "31da8138-23c2-4249-a2a9-ab5cf63f2956",
   "metadata": {},
   "outputs": [],
   "source": [
    "help(df.dropna)"
   ]
  },
  {
   "cell_type": "markdown",
   "id": "28bdc50a-b40b-4581-bf44-65c45f0b3764",
   "metadata": {},
   "source": [
    "**Investigating missing values in columns** <br>\n",
    "In pandas, we have the `isna()` method to investigate missing values: eg. df.isna.sum() - will give a count of missing values in each column \n",
    " - You can then use the fillna() method to replace missing values in select column <br>\n",
    "**Investigate missing values by executing the following code cell and examining the output.**\n"
   ]
  },
  {
   "cell_type": "code",
   "execution_count": null,
   "id": "1eb043d8-c15b-4108-9454-3533a119feb0",
   "metadata": {},
   "outputs": [],
   "source": [
    "df.isna.sum()"
   ]
  },
  {
   "cell_type": "markdown",
   "id": "2c65cd4c-21ce-4a6a-b9b9-0d30cae42aa1",
   "metadata": {},
   "source": [
    "# Filling the missing values - NaN, not 0, blank, space or 'NA'!\n",
    "It is not always helpful to delete the records from DataFrame with the missing values. In many cases, we need to infer some values which we can fill or impute in place of missing data. So, to fill the missing values, we can use the fillna() or replace() methods of the dataframe object. These can be used with various options depending on our needs. The following is the code snippet to create a DataFrame df from a Python dictionary with missing values."
   ]
  },
  {
   "cell_type": "code",
   "execution_count": null,
   "id": "3feabccb-1b83-4d46-bf12-7eefbc1ef726",
   "metadata": {},
   "outputs": [],
   "source": [
    "import numpy as np\n",
    "import pandas as pd\n",
    "\n",
    "# Create a sample dataframe \n",
    "# np.nan inserts a missing value also known as a NaN value\n",
    "\n",
    "emp_dict = {'Name':['Porter','Abraham','NA','Victoria','Hiroko'],\n",
    "            'Dept':['Advertising',np.nan,'Accounting',\"\",'Accounting'],\n",
    "            'Salary_n_$':[7921,0,9721,np.nan,7443],\n",
    "            'City':[\"Connah's Quay\",\"Sanzeno\",np.nan,\"Neerepen\",\"Sanzeno\"]}\n",
    "\n",
    "df = pd.DataFrame(emp_dict)\n",
    "df"
   ]
  },
  {
   "cell_type": "markdown",
   "id": "5d6648dd-e254-4139-8b62-dfe74615d1e2",
   "metadata": {},
   "source": [
    "Let’s see how we can use `fillna()` and `replace()` methods to fill/replace the missing values in DataFrame. Again, note that 0, blank, space and 'NA' are not missing values! We use the `DataFrame.fillna()` method as follows:<br>\n",
    "`DataFrame.fillna(<value_to_be filled>)` <br>\n",
    "Whatever we pass in the `fillna()` function will replace all `NaN` by default. See the following example where all `NaN` values are filled with \"MissingValue\" and compare with the df output above.\n"
   ]
  },
  {
   "cell_type": "code",
   "execution_count": null,
   "id": "d6b060c5-ae0e-43cf-9f50-9282f1bd282d",
   "metadata": {},
   "outputs": [],
   "source": [
    "dff = df.fillna(\"MissingValue\")\n",
    "dff"
   ]
  },
  {
   "cell_type": "markdown",
   "id": "106e4467-1ade-4cf2-a59e-10594e60b1d5",
   "metadata": {},
   "source": [
    "# `fillna()` with `mean`, `median` and `mode`\n",
    "We can fill the missing values with more appropriate ones using the `fillna()` method’s statistical parameters. For example, suppose we found some missing values in the salary column. In that case, filling with some constant value is not good; rather, filing that with the `average of all salaries` or the `median of all salaries` will be more appropriate. See the following examples where we will handle the missing values with `mean()`, `median()` and `mode()`"
   ]
  },
  {
   "cell_type": "code",
   "execution_count": null,
   "id": "725abf4f-8291-475f-9bd5-595eed85ba4a",
   "metadata": {},
   "outputs": [],
   "source": [
    "df_fmean = df[['Salary_n_$']].fillna(df['Salary_n_$'].mean())\n",
    "df_fmean"
   ]
  },
  {
   "cell_type": "code",
   "execution_count": null,
   "id": "662a7478-2efc-407b-9ca0-69d490e908e6",
   "metadata": {},
   "outputs": [],
   "source": [
    "# Let's compare above with the old\n",
    "df[['Salary_n_$']]"
   ]
  },
  {
   "cell_type": "markdown",
   "id": "175a0dc6-9bef-4caf-9bcc-39dea3c428ac",
   "metadata": {},
   "source": [
    "The code to use the `fillna()` method with `median()` of the salary instead:"
   ]
  },
  {
   "cell_type": "code",
   "execution_count": null,
   "id": "5891deed-649b-4283-a5fd-fb78735daa02",
   "metadata": {},
   "outputs": [],
   "source": [
    "df_fmedian = df[['Salary_n_$']].fillna(df['Salary_n_$'].median())\n",
    "df_fmedian"
   ]
  },
  {
   "cell_type": "markdown",
   "id": "7fdba788-817d-415a-97cf-038b24754aa3",
   "metadata": {},
   "source": [
    "For categorical or non-numeric columns we can use the `mode` instead "
   ]
  },
  {
   "cell_type": "code",
   "execution_count": null,
   "id": "64bf6a35-d69f-4726-9472-487e20deaeed",
   "metadata": {},
   "outputs": [],
   "source": [
    "df_fmode = df[['City']].fillna(df['City'].mode())\n",
    "df_fmode"
   ]
  },
  {
   "cell_type": "markdown",
   "id": "775eaed3-22fb-4301-99d8-838f8e343fd6",
   "metadata": {},
   "source": [
    "# DataFrame.replace()\n",
    "If you observed the previous examples for `fillna()` function, it deals with only the `NaN values (as pandas consider NaN as missing value )`; it does not replace values like ‘NA,’ 0, blank/space, but these values can also be considered as missing in real-time problem cases. For example, we have a city column, but it has blank/space for some cell or 0 in the salary column, which is also supposed to be considered missing values. So, if we can replace these values with some other values using replace() function, we need to pass old_value and new_value in this function to get new_value by replacing the old_value. Following are the examples which demonstrates how to implement this replace() function with various options."
   ]
  },
  {
   "cell_type": "code",
   "execution_count": null,
   "id": "3c053bc1-f933-4241-84ed-2ab7f183248b",
   "metadata": {},
   "outputs": [],
   "source": [
    "# Replacing all dataframe values\n",
    "df_replace = df.replace({'NA':'Not Applicable',0:5000,\"\":\"Blank\",np.nan:\"Not a Number!\"})\n",
    "df_replace"
   ]
  },
  {
   "cell_type": "code",
   "execution_count": null,
   "id": "84a1a1f6-a8bc-4e54-b556-a8b3073cc784",
   "metadata": {},
   "outputs": [],
   "source": []
  }
 ],
 "metadata": {
  "kernelspec": {
   "display_name": "Python 3 (ipykernel)",
   "language": "python",
   "name": "python3"
  },
  "language_info": {
   "codemirror_mode": {
    "name": "ipython",
    "version": 3
   },
   "file_extension": ".py",
   "mimetype": "text/x-python",
   "name": "python",
   "nbconvert_exporter": "python",
   "pygments_lexer": "ipython3",
   "version": "3.11.6"
  }
 },
 "nbformat": 4,
 "nbformat_minor": 5
}
